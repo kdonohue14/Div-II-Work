{
 "cells": [
  {
   "cell_type": "markdown",
   "metadata": {},
   "source": [
    "#### Reading input data"
   ]
  },
  {
   "cell_type": "code",
   "execution_count": 1,
   "metadata": {
    "collapsed": true
   },
   "outputs": [],
   "source": [
    "input_path = \"../_Staging/Pega_Bouncebacks_UserUnknow_012616.csv\""
   ]
  },
  {
   "cell_type": "code",
   "execution_count": 2,
   "metadata": {
    "collapsed": false
   },
   "outputs": [],
   "source": [
    "import datetime\n",
    "import pandas as pd\n",
    "from zoomtools import rdb"
   ]
  },
  {
   "cell_type": "code",
   "execution_count": 4,
   "metadata": {
    "collapsed": false
   },
   "outputs": [
    {
     "data": {
      "text/html": [
       "<div>\n",
       "<table border=\"1\" class=\"dataframe\">\n",
       "  <thead>\n",
       "    <tr style=\"text-align: right;\">\n",
       "      <th></th>\n",
       "      <th>DATE_CREATED</th>\n",
       "      <th>FILE_SOURCE</th>\n",
       "      <th>Recipient Email Address</th>\n",
       "      <th>Zoom Individual ID</th>\n",
       "      <th>VALIDATION</th>\n",
       "    </tr>\n",
       "  </thead>\n",
       "  <tbody>\n",
       "    <tr>\n",
       "      <th>0</th>\n",
       "      <td>1/7/2016</td>\n",
       "      <td>ZoomInfo-2016</td>\n",
       "      <td>robert.s.smith@wellsfargo.com</td>\n",
       "      <td>-2102933875</td>\n",
       "      <td>Good-Catch-All</td>\n",
       "    </tr>\n",
       "    <tr>\n",
       "      <th>1</th>\n",
       "      <td>1/7/2016</td>\n",
       "      <td>ZoomInfo-2016</td>\n",
       "      <td>bellj@wellsfargo.com</td>\n",
       "      <td>1909134101</td>\n",
       "      <td>Good-Catch-All</td>\n",
       "    </tr>\n",
       "    <tr>\n",
       "      <th>2</th>\n",
       "      <td>12/11/2015</td>\n",
       "      <td>ZoomInfo-2015 Corporate - DEC</td>\n",
       "      <td>gary.methvin@airgas.com</td>\n",
       "      <td>1784688781</td>\n",
       "      <td>Good-Catch-All</td>\n",
       "    </tr>\n",
       "    <tr>\n",
       "      <th>3</th>\n",
       "      <td>12/11/2015</td>\n",
       "      <td>ZoomInfo-2015 Corporate - DEC</td>\n",
       "      <td>ronald.keller@airgas.com</td>\n",
       "      <td>-1986587797</td>\n",
       "      <td>Good-Catch-All</td>\n",
       "    </tr>\n",
       "    <tr>\n",
       "      <th>4</th>\n",
       "      <td>12/11/2015</td>\n",
       "      <td>ZoomInfo-2015 Corporate - DEC</td>\n",
       "      <td>herman.rios@airgas.com</td>\n",
       "      <td>2107267423</td>\n",
       "      <td>Good-Catch-All</td>\n",
       "    </tr>\n",
       "    <tr>\n",
       "      <th>5</th>\n",
       "      <td>12/11/2015</td>\n",
       "      <td>ZoomInfo-2015 Corporate - DEC</td>\n",
       "      <td>jesse.hemingway@airgas.com</td>\n",
       "      <td>-2019796696</td>\n",
       "      <td>Good-Catch-All</td>\n",
       "    </tr>\n",
       "  </tbody>\n",
       "</table>\n",
       "</div>"
      ],
      "text/plain": [
       "  DATE_CREATED                    FILE_SOURCE        Recipient Email Address  \\\n",
       "0     1/7/2016                  ZoomInfo-2016  robert.s.smith@wellsfargo.com   \n",
       "1     1/7/2016                  ZoomInfo-2016           bellj@wellsfargo.com   \n",
       "2   12/11/2015  ZoomInfo-2015 Corporate - DEC        gary.methvin@airgas.com   \n",
       "3   12/11/2015  ZoomInfo-2015 Corporate - DEC       ronald.keller@airgas.com   \n",
       "4   12/11/2015  ZoomInfo-2015 Corporate - DEC         herman.rios@airgas.com   \n",
       "5   12/11/2015  ZoomInfo-2015 Corporate - DEC     jesse.hemingway@airgas.com   \n",
       "\n",
       "   Zoom Individual ID      VALIDATION  \n",
       "0         -2102933875  Good-Catch-All  \n",
       "1          1909134101  Good-Catch-All  \n",
       "2          1784688781  Good-Catch-All  \n",
       "3         -1986587797  Good-Catch-All  \n",
       "4          2107267423  Good-Catch-All  \n",
       "5         -2019796696  Good-Catch-All  "
      ]
     },
     "execution_count": 4,
     "metadata": {},
     "output_type": "execute_result"
    }
   ],
   "source": [
    "df = pd.read_csv(input_path)\n",
    "df.dropna(subset=['Recipient Email Address'], inplace=True)\n",
    "df.ix[:5, :5]"
   ]
  },
  {
   "cell_type": "markdown",
   "metadata": {},
   "source": [
    "#### Creating database connection"
   ]
  },
  {
   "cell_type": "code",
   "execution_count": 5,
   "metadata": {
    "collapsed": false
   },
   "outputs": [
    {
     "data": {
      "text/plain": [
       "{0: 'SQL Server',\n",
       " 1: 'Microsoft Access Driver (*.mdb, *.accdb)',\n",
       " 2: 'Microsoft Excel Driver (*.xls, *.xlsx, *.xlsm, *.xlsb)',\n",
       " 3: 'Microsoft Access dBASE Driver (*.dbf, *.ndx, *.mdx)',\n",
       " 4: 'Microsoft Access Text Driver (*.txt, *.csv)',\n",
       " 5: 'SQL Server Native Client 10.0',\n",
       " 6: 'MySQL ODBC 5.2 ANSI Driver',\n",
       " 7: 'MySQL ODBC 5.2 Unicode Driver',\n",
       " 8: 'SQL Server Native Client 11.0',\n",
       " 9: 'ODBC Driver 11 for SQL Server'}"
      ]
     },
     "execution_count": 5,
     "metadata": {},
     "output_type": "execute_result"
    }
   ],
   "source": [
    "rdb.drivers()"
   ]
  },
  {
   "cell_type": "code",
   "execution_count": 6,
   "metadata": {
    "collapsed": false
   },
   "outputs": [
    {
     "name": "stdout",
     "output_type": "stream",
     "text": [
      "Password for user sa:\n",
      "········\n",
      "Connected to permission_pass_db on Freshdb03.\n"
     ]
    }
   ],
   "source": [
    "ppdb = rdb.conn(driver=rdb.drivers()[8],\n",
    "                server='Freshdb03',\n",
    "                database='permission_pass_db',\n",
    "                uid='sa')"
   ]
  },
  {
   "cell_type": "markdown",
   "metadata": {},
   "source": [
    "#### Querying context data"
   ]
  },
  {
   "cell_type": "code",
   "execution_count": 7,
   "metadata": {
    "collapsed": true
   },
   "outputs": [],
   "source": [
    "def formatEmails(emails):\n",
    "    escaped_emails = [email.replace(\"'\", \"''\") for email in emails]\n",
    "    email_string = \", \".join([\"'\" + email + \"'\" for email in escaped_emails])\n",
    "    return email_string"
   ]
  },
  {
   "cell_type": "code",
   "execution_count": 8,
   "metadata": {
    "collapsed": true
   },
   "outputs": [],
   "source": [
    "query = \"\"\"select email, date_validated, date_permission_passed\n",
    "           from emails\n",
    "           where email in ({})\"\"\""
   ]
  },
  {
   "cell_type": "code",
   "execution_count": 10,
   "metadata": {
    "collapsed": false
   },
   "outputs": [
    {
     "data": {
      "text/html": [
       "<div>\n",
       "<table border=\"1\" class=\"dataframe\">\n",
       "  <thead>\n",
       "    <tr style=\"text-align: right;\">\n",
       "      <th></th>\n",
       "      <th>email</th>\n",
       "      <th>date_validated</th>\n",
       "      <th>date_permission_passed</th>\n",
       "    </tr>\n",
       "  </thead>\n",
       "  <tbody>\n",
       "    <tr>\n",
       "      <th>0</th>\n",
       "      <td>alan.clark@transportscotland.gsi.gov.uk</td>\n",
       "      <td>2015-10-27</td>\n",
       "      <td>2012-01-07</td>\n",
       "    </tr>\n",
       "    <tr>\n",
       "      <th>1</th>\n",
       "      <td>aoconnor@manh.com</td>\n",
       "      <td>2015-12-04</td>\n",
       "      <td>2013-03-15</td>\n",
       "    </tr>\n",
       "    <tr>\n",
       "      <th>2</th>\n",
       "      <td>barb_faucette@cblproperties.com</td>\n",
       "      <td>2015-12-06</td>\n",
       "      <td>2012-01-18</td>\n",
       "    </tr>\n",
       "    <tr>\n",
       "      <th>3</th>\n",
       "      <td>barry.bearg@revlon.com</td>\n",
       "      <td>2015-10-31</td>\n",
       "      <td>2012-01-28</td>\n",
       "    </tr>\n",
       "    <tr>\n",
       "      <th>4</th>\n",
       "      <td>beth.horowitz@harris.com</td>\n",
       "      <td>2015-10-30</td>\n",
       "      <td>2012-01-06</td>\n",
       "    </tr>\n",
       "  </tbody>\n",
       "</table>\n",
       "</div>"
      ],
      "text/plain": [
       "                                     email date_validated  \\\n",
       "0  alan.clark@transportscotland.gsi.gov.uk     2015-10-27   \n",
       "1                        aoconnor@manh.com     2015-12-04   \n",
       "2          barb_faucette@cblproperties.com     2015-12-06   \n",
       "3                   barry.bearg@revlon.com     2015-10-31   \n",
       "4                 beth.horowitz@harris.com     2015-10-30   \n",
       "\n",
       "  date_permission_passed  \n",
       "0             2012-01-07  \n",
       "1             2013-03-15  \n",
       "2             2012-01-18  \n",
       "3             2012-01-28  \n",
       "4             2012-01-06  "
      ]
     },
     "execution_count": 10,
     "metadata": {},
     "output_type": "execute_result"
    }
   ],
   "source": [
    "email_string = formatEmails(df['Recipient Email Address'])\n",
    "context = rdb.query(ppdb, query.format(email_string))\n",
    "context.head()"
   ]
  },
  {
   "cell_type": "markdown",
   "metadata": {},
   "source": [
    "#### Joining and saving to disk"
   ]
  },
  {
   "cell_type": "code",
   "execution_count": 12,
   "metadata": {
    "collapsed": false
   },
   "outputs": [
    {
     "data": {
      "text/html": [
       "<div>\n",
       "<table border=\"1\" class=\"dataframe\">\n",
       "  <thead>\n",
       "    <tr style=\"text-align: right;\">\n",
       "      <th></th>\n",
       "      <th>DATE_CREATED</th>\n",
       "      <th>FILE_SOURCE</th>\n",
       "      <th>Recipient Email Address</th>\n",
       "      <th>Zoom Individual ID</th>\n",
       "      <th>VALIDATION</th>\n",
       "      <th>Bounceback Date/Time</th>\n",
       "      <th>DATE</th>\n",
       "      <th>DOMAIN</th>\n",
       "      <th>SMTP Error Code</th>\n",
       "      <th>SMTP Reply Code</th>\n",
       "      <th>Bounceback Message</th>\n",
       "      <th>Email Name</th>\n",
       "      <th>email</th>\n",
       "      <th>date_validated</th>\n",
       "      <th>date_permission_passed</th>\n",
       "    </tr>\n",
       "  </thead>\n",
       "  <tbody>\n",
       "    <tr>\n",
       "      <th>0</th>\n",
       "      <td>1/7/2016</td>\n",
       "      <td>ZoomInfo-2016</td>\n",
       "      <td>robert.s.smith@wellsfargo.com</td>\n",
       "      <td>-2102933875</td>\n",
       "      <td>Good-Catch-All</td>\n",
       "      <td>1/8/2016</td>\n",
       "      <td>1/8/2016</td>\n",
       "      <td>wellsfargo.com</td>\n",
       "      <td>5.1.1</td>\n",
       "      <td>NaN</td>\n",
       "      <td>#550 5.1.1 resolver.adr.recipnotfound; not fou...</td>\n",
       "      <td>NONE_PROVIDED</td>\n",
       "      <td>robert.s.smith@wellsfargo.com</td>\n",
       "      <td>2015-10-24</td>\n",
       "      <td>2015-04-20</td>\n",
       "    </tr>\n",
       "    <tr>\n",
       "      <th>1</th>\n",
       "      <td>1/7/2016</td>\n",
       "      <td>ZoomInfo-2016</td>\n",
       "      <td>bellj@wellsfargo.com</td>\n",
       "      <td>1909134101</td>\n",
       "      <td>Good-Catch-All</td>\n",
       "      <td>1/8/2016</td>\n",
       "      <td>1/8/2016</td>\n",
       "      <td>wellsfargo.com</td>\n",
       "      <td>5.1.1</td>\n",
       "      <td>NaN</td>\n",
       "      <td>#550 5.1.1 resolver.adr.recipnotfound; not fou...</td>\n",
       "      <td>NONE_PROVIDED</td>\n",
       "      <td>bellj@wellsfargo.com</td>\n",
       "      <td>2015-10-19</td>\n",
       "      <td>2014-09-30</td>\n",
       "    </tr>\n",
       "    <tr>\n",
       "      <th>2</th>\n",
       "      <td>12/11/2015</td>\n",
       "      <td>ZoomInfo-2015 Corporate - DEC</td>\n",
       "      <td>gary.methvin@airgas.com</td>\n",
       "      <td>1784688781</td>\n",
       "      <td>Good-Catch-All</td>\n",
       "      <td>1/8/2016</td>\n",
       "      <td>1/8/2016</td>\n",
       "      <td>airgas.com</td>\n",
       "      <td>5.1.1</td>\n",
       "      <td>NaN</td>\n",
       "      <td>#550 5.1.1 resolver.adr.recipnotfound; not fou...</td>\n",
       "      <td>NONE_PROVIDED</td>\n",
       "      <td>gary.methvin@airgas.com</td>\n",
       "      <td>2015-11-28</td>\n",
       "      <td>2015-06-16</td>\n",
       "    </tr>\n",
       "    <tr>\n",
       "      <th>3</th>\n",
       "      <td>12/11/2015</td>\n",
       "      <td>ZoomInfo-2015 Corporate - DEC</td>\n",
       "      <td>ronald.keller@airgas.com</td>\n",
       "      <td>-1986587797</td>\n",
       "      <td>Good-Catch-All</td>\n",
       "      <td>1/13/2016</td>\n",
       "      <td>1/13/2016</td>\n",
       "      <td>airgas.com</td>\n",
       "      <td>5.1.1</td>\n",
       "      <td>NaN</td>\n",
       "      <td>#550 5.1.1 resolver.adr.recipnotfound; not fou...</td>\n",
       "      <td>NONE_PROVIDED</td>\n",
       "      <td>ronald.keller@airgas.com</td>\n",
       "      <td>2015-10-31</td>\n",
       "      <td>2014-09-23</td>\n",
       "    </tr>\n",
       "    <tr>\n",
       "      <th>4</th>\n",
       "      <td>12/11/2015</td>\n",
       "      <td>ZoomInfo-2015 Corporate - DEC</td>\n",
       "      <td>herman.rios@airgas.com</td>\n",
       "      <td>2107267423</td>\n",
       "      <td>Good-Catch-All</td>\n",
       "      <td>1/13/2016</td>\n",
       "      <td>1/13/2016</td>\n",
       "      <td>airgas.com</td>\n",
       "      <td>5.1.1</td>\n",
       "      <td>NaN</td>\n",
       "      <td>#550 5.1.1 resolver.adr.recipnotfound; not fou...</td>\n",
       "      <td>NONE_PROVIDED</td>\n",
       "      <td>herman.rios@airgas.com</td>\n",
       "      <td>2015-11-28</td>\n",
       "      <td>2014-02-20</td>\n",
       "    </tr>\n",
       "  </tbody>\n",
       "</table>\n",
       "</div>"
      ],
      "text/plain": [
       "  DATE_CREATED                    FILE_SOURCE        Recipient Email Address  \\\n",
       "0     1/7/2016                  ZoomInfo-2016  robert.s.smith@wellsfargo.com   \n",
       "1     1/7/2016                  ZoomInfo-2016           bellj@wellsfargo.com   \n",
       "2   12/11/2015  ZoomInfo-2015 Corporate - DEC        gary.methvin@airgas.com   \n",
       "3   12/11/2015  ZoomInfo-2015 Corporate - DEC       ronald.keller@airgas.com   \n",
       "4   12/11/2015  ZoomInfo-2015 Corporate - DEC         herman.rios@airgas.com   \n",
       "\n",
       "   Zoom Individual ID      VALIDATION Bounceback Date/Time       DATE  \\\n",
       "0         -2102933875  Good-Catch-All             1/8/2016   1/8/2016   \n",
       "1          1909134101  Good-Catch-All             1/8/2016   1/8/2016   \n",
       "2          1784688781  Good-Catch-All             1/8/2016   1/8/2016   \n",
       "3         -1986587797  Good-Catch-All            1/13/2016  1/13/2016   \n",
       "4          2107267423  Good-Catch-All            1/13/2016  1/13/2016   \n",
       "\n",
       "           DOMAIN SMTP Error Code  SMTP Reply Code  \\\n",
       "0  wellsfargo.com           5.1.1              NaN   \n",
       "1  wellsfargo.com           5.1.1              NaN   \n",
       "2      airgas.com           5.1.1              NaN   \n",
       "3      airgas.com           5.1.1              NaN   \n",
       "4      airgas.com           5.1.1              NaN   \n",
       "\n",
       "                                  Bounceback Message     Email Name  \\\n",
       "0  #550 5.1.1 resolver.adr.recipnotfound; not fou...  NONE_PROVIDED   \n",
       "1  #550 5.1.1 resolver.adr.recipnotfound; not fou...  NONE_PROVIDED   \n",
       "2  #550 5.1.1 resolver.adr.recipnotfound; not fou...  NONE_PROVIDED   \n",
       "3  #550 5.1.1 resolver.adr.recipnotfound; not fou...  NONE_PROVIDED   \n",
       "4  #550 5.1.1 resolver.adr.recipnotfound; not fou...  NONE_PROVIDED   \n",
       "\n",
       "                           email date_validated date_permission_passed  \n",
       "0  robert.s.smith@wellsfargo.com     2015-10-24             2015-04-20  \n",
       "1           bellj@wellsfargo.com     2015-10-19             2014-09-30  \n",
       "2        gary.methvin@airgas.com     2015-11-28             2015-06-16  \n",
       "3       ronald.keller@airgas.com     2015-10-31             2014-09-23  \n",
       "4         herman.rios@airgas.com     2015-11-28             2014-02-20  "
      ]
     },
     "execution_count": 12,
     "metadata": {},
     "output_type": "execute_result"
    }
   ],
   "source": [
    "master = df.merge(context, how='left', left_on='Recipient Email Address', right_on='email')\n",
    "master.head()"
   ]
  },
  {
   "cell_type": "code",
   "execution_count": 15,
   "metadata": {
    "collapsed": false
   },
   "outputs": [],
   "source": [
    "master.to_csv(\"Pega_Bouncebacks_UserUnknow_012616_dates_joined.csv\", index=False)"
   ]
  }
 ],
 "metadata": {
  "anaconda-cloud": {},
  "kernelspec": {
   "display_name": "Python [Root]",
   "language": "python",
   "name": "Python [Root]"
  },
  "language_info": {
   "codemirror_mode": {
    "name": "ipython",
    "version": 3
   },
   "file_extension": ".py",
   "mimetype": "text/x-python",
   "name": "python",
   "nbconvert_exporter": "python",
   "pygments_lexer": "ipython3",
   "version": "3.5.2"
  }
 },
 "nbformat": 4,
 "nbformat_minor": 0
}
