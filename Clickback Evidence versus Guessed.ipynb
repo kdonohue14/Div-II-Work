{
 "cells": [
  {
   "cell_type": "code",
   "execution_count": 2,
   "metadata": {
    "collapsed": false
   },
   "outputs": [
    {
     "name": "stdout",
     "output_type": "stream",
     "text": [
      "F:\\\n"
     ]
    }
   ],
   "source": [
    "cd F:"
   ]
  },
  {
   "cell_type": "code",
   "execution_count": 43,
   "metadata": {
    "collapsed": false
   },
   "outputs": [],
   "source": [
    "from zoomtools import rdb, solr, transform\n",
    "import pandas as pd\n",
    "import itertools\n",
    "import glob\n",
    "from IPython import display as dsp\n",
    "import os\n",
    "import codecs\n",
    "import numpy as np"
   ]
  },
  {
   "cell_type": "code",
   "execution_count": 45,
   "metadata": {
    "collapsed": false
   },
   "outputs": [],
   "source": [
    "# Dir on public drive where the clickback files live\n",
    "data_dir =  \"Z:\\Katlyn.Donohue\\Email Deliverability\\Clickback\\Weekly Clickback Files\""
   ]
  },
  {
   "cell_type": "code",
   "execution_count": 6,
   "metadata": {
    "collapsed": false
   },
   "outputs": [
    {
     "data": {
      "text/plain": [
       "'zoominfo_permissionpass_new_weekly_20160507_090000_Verified_20160530.csv'"
      ]
     },
     "execution_count": 6,
     "metadata": {},
     "output_type": "execute_result"
    }
   ],
   "source": [
    "# Grabs all of the file names, which columns we want to read.\n",
    "clickback_csv = [xml for xml in glob.iglob('zoominfo_permissionpass*.csv')]\n",
    "clmns = ['Import_Date','Email_Health','Bounce_Code','Verification_Result','ZoomIndividualID','Email_Address']\n",
    "clickback_csv[2]"
   ]
  },
  {
   "cell_type": "markdown",
   "metadata": {},
   "source": [
    "**Take 1k sample from each file to compare against zipi_db to get Guessed/Evidence counts.**"
   ]
  },
  {
   "cell_type": "code",
   "execution_count": 60,
   "metadata": {
    "collapsed": false,
    "scrolled": true
   },
   "outputs": [
    {
     "data": {
      "text/plain": [
       "'\\nfor i in clickback_csv[:5]:\\n    dsp.clear_output\\n    print(counter)\\n    file = pd.read_csv(i, usecols=clmns, nrows=_rows)\\n    file = file.sample(records_per_file)\\n    CBsamples = CBsamples.append(file)\\n    counter +=1\\n    \\nCBsamples.head()\\n'"
      ]
     },
     "execution_count": 60,
     "metadata": {},
     "output_type": "execute_result"
    }
   ],
   "source": [
    "_rows = None # # None for full read, smaller <N> for faster execution while debugging\n",
    "records_per_file = 1000  # sample size to take from each file, higher for better confidence\n",
    "\n",
    "CBsamples = pd.DataFrame()\n",
    "counter = 0\n",
    "\n",
    "for i in clickback_csv[:5]:\n",
    "    dsp.clear_output\n",
    "    print(counter)\n",
    "    file = pd.read_csv(i, usecols=clmns, nrows=_rows)\n",
    "    file = file.sample(records_per_file)\n",
    "    CBsamples = CBsamples.append(file)\n",
    "    counter +=1\n",
    "    \n",
    "CBsamples.head()\n"
   ]
  },
  {
   "cell_type": "code",
   "execution_count": 61,
   "metadata": {
    "collapsed": true
   },
   "outputs": [],
   "source": [
    "# Uncomment if saving for later. \n",
    "## CBsamples.to_csv('CBsamples.csv', index=False)"
   ]
  },
  {
   "cell_type": "markdown",
   "metadata": {},
   "source": [
    "### Guessed or Evidence?"
   ]
  },
  {
   "cell_type": "code",
   "execution_count": 64,
   "metadata": {
    "collapsed": false
   },
   "outputs": [
    {
     "data": {
      "text/plain": [
       "{0: 'SQL Server',\n",
       " 1: 'SQL Server Native Client 11.0',\n",
       " 2: 'ODBC Driver 11 for SQL Server'}"
      ]
     },
     "execution_count": 64,
     "metadata": {},
     "output_type": "execute_result"
    }
   ],
   "source": [
    "rdb.drivers()"
   ]
  },
  {
   "cell_type": "code",
   "execution_count": 65,
   "metadata": {
    "collapsed": false
   },
   "outputs": [
    {
     "name": "stdout",
     "output_type": "stream",
     "text": [
      "Password for user sa:\n",
      "········\n",
      "Connected to zipi on Freshdb02.xoominfo.com.\n"
     ]
    }
   ],
   "source": [
    "zipi_db = rdb.conn(driver=rdb.drivers()[1],\n",
    "                   server='Freshdb02.xoominfo.com',\n",
    "                   database='zipi',\n",
    "                   uid='sa')"
   ]
  },
  {
   "cell_type": "code",
   "execution_count": 67,
   "metadata": {
    "collapsed": false,
    "scrolled": false
   },
   "outputs": [
    {
     "name": "stdout",
     "output_type": "stream",
     "text": [
      "starting 5/5, zoominfo_permissionpass_new_weekly_20160521_090000_Verified_20160620.csv\n",
      "\n"
     ]
    },
    {
     "data": {
      "text/plain": [
       "\"\\nfor i in CBsamples['Import_Date'].unique():\\n    print(counter)\\n    counter += 1\\n    doc = CBsamples[CBsamples['Import_Date']== i]\\n    email_string = narfle_the_garthok(doc['Email_Address'])\\n    #email_string = narfle_the_garthok(CBsamples['Email_Address'])\\n    \\n    context = context.append(rdb.query(zipi_db, query_emails.format(email_string)))\\n    \\n    final = pd.merge(doc, context, how='left', \\n                    left_on='Email_Address', right_on='email')\\n    \\n    #final = pd.merge(CBsamples, context, how='left', \\n     #                left_on='Email_Address', right_on='email')\\n    master = master.append(final)\\n    \\n    proportions = proportions.append([[i,\\n                                      len(final[final['email'].isnull()]), \\n                                      (len(final)-len(final[final['email'].isnull()]))]])\\nproportions = proportions.rename(columns={0:'Import Date', 1:'Guessed', 2:'Evidence'})\\nproportions\\n\""
      ]
     },
     "execution_count": 67,
     "metadata": {},
     "output_type": "execute_result"
    }
   ],
   "source": [
    "query_emails = \"\"\"\n",
    "    select email, zoom_person_id\n",
    "    from zipi_email\n",
    "    where email in ({})\"\"\"\n",
    "context = pd.DataFrame()\n",
    "counter = 0\n",
    "proportions = pd.DataFrame()\n",
    "master = pd.DataFrame()\n",
    "\n",
    "num_f = len(clickback_csv[:5])\n",
    "master = pd.DataFrame()\n",
    "for index, f_name in enumerate(clickback_csv[:5]):\n",
    "    # mark progress\n",
    "    dsp.clear_output()\n",
    "    print(\"starting {}/{}, {}\\n\".format(index + 1, num_f, f_name))\n",
    "    \n",
    "    # read in source data\n",
    "    path = os.path.join(data_dir, f_name)\n",
    "    df = pd.read_csv(path, usecols=['Import_Date', 'Email_Address'], nrows=_rows)\n",
    "    \n",
    "    # capture line count\n",
    "    f_size = df.shape[0]\n",
    "    \n",
    "    # downsample to desired number of records\n",
    "    df = df.sample(records_per_file)\n",
    "    \n",
    "    # set up iteration chunk size, chunk list, and aggregator dataframe\n",
    "    chunksize = 500\n",
    "    chunks = [df['Email_Address'][i:i+chunksize] for i in range(0, df.shape[0], chunksize)]\n",
    "    agg = pd.DataFrame()\n",
    "    \n",
    "    # iterate over emails while fetching zipi DB data\n",
    "    for chunk in chunks:\n",
    "        email_string = transform.emails_to_sql(chunk)\n",
    "        temp = rdb.query(zipi_db, query_emails.format(email_string))\n",
    "        agg = agg.append(temp, ignore_index=True)\n",
    "    \n",
    "    # only want a single record per found email\n",
    "    #agg.sort_values(by='last_date', ascending=False, inplace=True)\n",
    "    agg.drop_duplicates(subset='email', keep='first', inplace=True)\n",
    "    \n",
    "    \n",
    "    joined = df.merge(agg, how='left', left_on='Email_Address', right_on='email')\n",
    "    joined['file_name'] = f_name\n",
    "    joined['file_size'] = f_size\n",
    "    \n",
    "    master = master.append(joined, ignore_index=True)\n",
    "\n",
    "master.head(2)\n",
    "\n"
   ]
  },
  {
   "cell_type": "code",
   "execution_count": 68,
   "metadata": {
    "collapsed": false,
    "scrolled": true
   },
   "outputs": [
    {
     "data": {
      "text/html": [
       "<div>\n",
       "<table border=\"1\" class=\"dataframe\">\n",
       "  <thead>\n",
       "    <tr style=\"text-align: right;\">\n",
       "      <th></th>\n",
       "      <th>Import_Date</th>\n",
       "      <th>Email_Address</th>\n",
       "      <th>email</th>\n",
       "      <th>zoom_person_id</th>\n",
       "      <th>file_name</th>\n",
       "      <th>file_size</th>\n",
       "    </tr>\n",
       "  </thead>\n",
       "  <tbody>\n",
       "    <tr>\n",
       "      <th>0</th>\n",
       "      <td>3/12/2016</td>\n",
       "      <td>c@bubbletightusa.com</td>\n",
       "      <td>NaN</td>\n",
       "      <td>NaN</td>\n",
       "      <td>zoominfo_permissionpass_new_weekly_20160312_09...</td>\n",
       "      <td>1048575</td>\n",
       "    </tr>\n",
       "    <tr>\n",
       "      <th>1</th>\n",
       "      <td>3/12/2016</td>\n",
       "      <td>vasishta@jamboreeindia.com</td>\n",
       "      <td>NaN</td>\n",
       "      <td>NaN</td>\n",
       "      <td>zoominfo_permissionpass_new_weekly_20160312_09...</td>\n",
       "      <td>1048575</td>\n",
       "    </tr>\n",
       "  </tbody>\n",
       "</table>\n",
       "</div>"
      ],
      "text/plain": [
       "  Import_Date               Email_Address email  zoom_person_id  \\\n",
       "0   3/12/2016        c@bubbletightusa.com   NaN             NaN   \n",
       "1   3/12/2016  vasishta@jamboreeindia.com   NaN             NaN   \n",
       "\n",
       "                                           file_name  file_size  \n",
       "0  zoominfo_permissionpass_new_weekly_20160312_09...    1048575  \n",
       "1  zoominfo_permissionpass_new_weekly_20160312_09...    1048575  "
      ]
     },
     "execution_count": 68,
     "metadata": {},
     "output_type": "execute_result"
    }
   ],
   "source": [
    "master.head(2)"
   ]
  },
  {
   "cell_type": "code",
   "execution_count": 69,
   "metadata": {
    "collapsed": false,
    "scrolled": true
   },
   "outputs": [
    {
     "name": "stdout",
     "output_type": "stream",
     "text": [
      "file_name\n",
      "zoominfo_permissionpass_new_weekly_20160312_090000_Verified_20160331.csv    0.026\n",
      "zoominfo_permissionpass_new_weekly_20160319_090000_Verified_20160419.csv    0.028\n",
      "zoominfo_permissionpass_new_weekly_20160507_090000_Verified_20160530.csv    0.025\n",
      "zoominfo_permissionpass_new_weekly_20160514_090000_Verified_20160615.csv    0.010\n",
      "zoominfo_permissionpass_new_weekly_20160521_090000_Verified_20160620.csv    0.012\n",
      "Name: has_zipi, dtype: float64\n"
     ]
    }
   ],
   "source": [
    "master['has_zipi'] = master['email'].notnull().map(lambda value: int(bool(value)))\n",
    "pivot = master.pivot_table(index='file_name', values='has_zipi', aggfunc=np.mean)\n",
    "print(pivot)"
   ]
  },
  {
   "cell_type": "code",
   "execution_count": 70,
   "metadata": {
    "collapsed": true
   },
   "outputs": [],
   "source": [
    "master.to_csv('CBemails_guessed.csv', index = False)"
   ]
  }
 ],
 "metadata": {
  "anaconda-cloud": {},
  "kernelspec": {
   "display_name": "Python [Root]",
   "language": "python",
   "name": "Python [Root]"
  },
  "language_info": {
   "codemirror_mode": {
    "name": "ipython",
    "version": 3
   },
   "file_extension": ".py",
   "mimetype": "text/x-python",
   "name": "python",
   "nbconvert_exporter": "python",
   "pygments_lexer": "ipython3",
   "version": "3.5.2"
  }
 },
 "nbformat": 4,
 "nbformat_minor": 0
}
