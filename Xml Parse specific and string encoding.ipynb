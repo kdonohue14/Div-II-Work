{
 "cells": [
  {
   "cell_type": "code",
   "execution_count": 1,
   "metadata": {
    "collapsed": false
   },
   "outputs": [
    {
     "name": "stdout",
     "output_type": "stream",
     "text": [
      "http://solarstage06.xoominfo.com:8983/solr/zoomCollection\n"
     ]
    }
   ],
   "source": [
    "from zoomtools import solr, transform, munge\n",
    "import pandas as pd\n",
    "ss6 = solr.conn()"
   ]
  },
  {
   "cell_type": "code",
   "execution_count": 11,
   "metadata": {
    "collapsed": false,
    "scrolled": true
   },
   "outputs": [
    {
     "data": {
      "text/html": [
       "<div>\n",
       "<table border=\"1\" class=\"dataframe\">\n",
       "  <thead>\n",
       "    <tr style=\"text-align: right;\">\n",
       "      <th></th>\n",
       "      <th>c_id</th>\n",
       "      <th>d_company</th>\n",
       "      <th>url</th>\n",
       "      <th>d_company_ext_names_xml</th>\n",
       "      <th>annotations</th>\n",
       "    </tr>\n",
       "  </thead>\n",
       "  <tbody>\n",
       "    <tr>\n",
       "      <th>0</th>\n",
       "      <td>372139962</td>\n",
       "      <td>China Datang Corporation Renewable Power Co., ...</td>\n",
       "      <td>www.dtxny.com.cn</td>\n",
       "      <td>[&lt;?xml version='1.0' encoding='UTF-8'?&gt;&lt;name c...</td>\n",
       "      <td>[datainfusion.lexisnexis, datainfusion.willow]</td>\n",
       "    </tr>\n",
       "  </tbody>\n",
       "</table>\n",
       "</div>"
      ],
      "text/plain": [
       "        c_id                                          d_company  \\\n",
       "0  372139962  China Datang Corporation Renewable Power Co., ...   \n",
       "\n",
       "                url                            d_company_ext_names_xml  \\\n",
       "0  www.dtxny.com.cn  [<?xml version='1.0' encoding='UTF-8'?><name c...   \n",
       "\n",
       "                                      annotations  \n",
       "0  [datainfusion.lexisnexis, datainfusion.willow]  "
      ]
     },
     "execution_count": 11,
     "metadata": {},
     "output_type": "execute_result"
    }
   ],
   "source": [
    "args = {'fl':'c_id,d_company,url,d_company_ext_names_xml,annotations',\n",
    "        'sort':'random_2345 asc',\n",
    "        'rows':1000}\n",
    "\n",
    "df = solr.query(ss6, 'emp:4999 -c_class:cpycode.inc5000 -sector', args)\n",
    "df.head(1)"
   ]
  },
  {
   "cell_type": "code",
   "execution_count": 12,
   "metadata": {
    "collapsed": false
   },
   "outputs": [
    {
     "data": {
      "text/html": [
       "<div>\n",
       "<table border=\"1\" class=\"dataframe\">\n",
       "  <thead>\n",
       "    <tr style=\"text-align: right;\">\n",
       "      <th></th>\n",
       "      <th>key</th>\n",
       "      <th>value</th>\n",
       "    </tr>\n",
       "  </thead>\n",
       "  <tbody>\n",
       "    <tr>\n",
       "      <th>0</th>\n",
       "      <td>372139962</td>\n",
       "      <td>&lt;?xml version='1.0' encoding='UTF-8'?&gt;&lt;name co...</td>\n",
       "    </tr>\n",
       "  </tbody>\n",
       "</table>\n",
       "</div>"
      ],
      "text/plain": [
       "         key                                              value\n",
       "0  372139962  <?xml version='1.0' encoding='UTF-8'?><name co..."
      ]
     },
     "execution_count": 12,
     "metadata": {},
     "output_type": "execute_result"
    }
   ],
   "source": [
    "xmls = transform.one2many_to_one2one(df['c_id'], df['d_company_ext_names_xml'])\n",
    "xmls.head(1)"
   ]
  },
  {
   "cell_type": "code",
   "execution_count": 13,
   "metadata": {
    "collapsed": false,
    "scrolled": true
   },
   "outputs": [
    {
     "data": {
      "text/html": [
       "<div>\n",
       "<table border=\"1\" class=\"dataframe\">\n",
       "  <thead>\n",
       "    <tr style=\"text-align: right;\">\n",
       "      <th></th>\n",
       "      <th>count</th>\n",
       "      <th>id</th>\n",
       "      <th>name</th>\n",
       "      <th>normalizedName</th>\n",
       "      <th>value</th>\n",
       "    </tr>\n",
       "  </thead>\n",
       "  <tbody>\n",
       "    <tr>\n",
       "      <th>0</th>\n",
       "      <td>24</td>\n",
       "      <td>372139962</td>\n",
       "      <td>None</td>\n",
       "      <td>proc datang corporation renewable power</td>\n",
       "      <td>China Datang Corporation Renewable Power Co., ...</td>\n",
       "    </tr>\n",
       "  </tbody>\n",
       "</table>\n",
       "</div>"
      ],
      "text/plain": [
       "  count         id  name                           normalizedName  \\\n",
       "0    24  372139962  None  proc datang corporation renewable power   \n",
       "\n",
       "                                               value  \n",
       "0  China Datang Corporation Renewable Power Co., ...  "
      ]
     },
     "execution_count": 13,
     "metadata": {},
     "output_type": "execute_result"
    }
   ],
   "source": [
    "xmls['value_enc'] = xmls['value'].map(lambda string: string.encode('utf8'))\n",
    "parsed = transform.xml_tag_to_dataframe(xmls['key'], xmls['value_enc'], \"//name\")\n",
    "parsed.head(1)"
   ]
  },
  {
   "cell_type": "code",
   "execution_count": 14,
   "metadata": {
    "collapsed": false
   },
   "outputs": [],
   "source": [
    "anots = pd.DataFrame(df['c_id']).join(pd.DataFrame(df['annotations']).join(pd.DataFrame(df['d_company'])))\n",
    "parsed1 = parsed.merge(anots, left_on ='id', right_on='c_id')"
   ]
  },
  {
   "cell_type": "code",
   "execution_count": 15,
   "metadata": {
    "collapsed": false
   },
   "outputs": [],
   "source": [
    "parsed1.to_csv(\"ext_names2.csv\", index=False)"
   ]
  },
  {
   "cell_type": "code",
   "execution_count": null,
   "metadata": {
    "collapsed": true
   },
   "outputs": [],
   "source": []
  }
 ],
 "metadata": {
  "kernelspec": {
   "display_name": "Python 3",
   "language": "python",
   "name": "python3"
  },
  "language_info": {
   "codemirror_mode": {
    "name": "ipython",
    "version": 3
   },
   "file_extension": ".py",
   "mimetype": "text/x-python",
   "name": "python",
   "nbconvert_exporter": "python",
   "pygments_lexer": "ipython3",
   "version": "3.5.1"
  }
 },
 "nbformat": 4,
 "nbformat_minor": 0
}
